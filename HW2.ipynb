version https://git-lfs.github.com/spec/v1
oid sha256:0ad98b4d0c9b0516101175e56a4d526afa640e8b119aec25af74dc94861b2551
size 108524631
