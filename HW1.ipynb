version https://git-lfs.github.com/spec/v1
oid sha256:2ff551657c0223ab12feebedeb51b5c50e4442a72f031ad18ea031a25c781115
size 1242773
